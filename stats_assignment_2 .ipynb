{
 "cells": [
  {
   "cell_type": "markdown",
   "metadata": {},
   "source": [
    "Q1. In each of the following situations, state whether it is a correctly stated hypothesis testing problem and why?"
   ]
  },
  {
   "cell_type": "markdown",
   "metadata": {},
   "source": [
    "1. H0: μ = 25, H1: μ ≠ 25\n",
    "\n",
    "Correctly stated hypothesis testing problem. Here, null hypothesis is μ is equal to 25 and alternate hypothesis is μ is not equal to 25 that means mu may be greater or lesser than 25."
   ]
  },
  {
   "cell_type": "markdown",
   "metadata": {},
   "source": [
    "2. H0: σ > 10, H1: σ = 10\n",
    "\n",
    "Partially correct hypothesis testing problem. Here, null hypothesis is σ is greater than 10 and correct alternate hypothesis would have been σ equal to or greater than 10."
   ]
  },
  {
   "cell_type": "markdown",
   "metadata": {},
   "source": [
    "3. H0: x = 50, H1: x ≠ 50\n",
    "\n",
    "Correctly stated hypothesis testing problem. Here, null hypothesis is 'x' is equal to 50 and alternate hypothesis is 'x' is not equal to 50 that means 'x' may be greater or lesser than 25."
   ]
  },
  {
   "cell_type": "markdown",
   "metadata": {},
   "source": [
    "4. H0: p = 0.1, H1: p = 0.5\n",
    "        \n",
    "Not correctly stated hypothesis testing problem. Here, null hypothesis is 'p' is equal to 0.1 and correct alternate hypothesis would have been 'p' is not equal to 0.1 ."
   ]
  },
  {
   "cell_type": "markdown",
   "metadata": {},
   "source": [
    "5. H0: s = 30, H1: s > 30\n",
    "\n",
    "Correctly stated hypothesis testing problem. Here, null hypothesis is 's' is equal to 30 and alternate hypothesis is 's' is greater than 30."
   ]
  },
  {
   "cell_type": "code",
   "execution_count": 1,
   "metadata": {},
   "outputs": [],
   "source": [
    "import numpy as np\n",
    "import pandas as pd\n",
    "from matplotlib import pyplot as plt\n",
    "import scipy.stats as st\n",
    "from scipy.stats import norm\n",
    "import math"
   ]
  },
  {
   "cell_type": "code",
   "execution_count": 4,
   "metadata": {},
   "outputs": [],
   "source": [
    "def hypothesis_testing(z,z1):\n",
    "    d = np.linspace(-4,4,100)\n",
    "    n = norm.pdf(d,0,1)\n",
    "    plt.fill_between(d, n, 0,where =(d<-z1)^(d>z1),alpha=0.3)  \n",
    "    plt.axvline(x=z, ymin=0, ymax=1, color = 'r', alpha = 0.5)\n",
    "    plt.xlabel('Z value')\n",
    "    plt.plot(d, n)\n",
    "    plt.show()\n",
    "    \n",
    "    if z < z1 and z > (-z1):    \n",
    "        print(\"\\n Conclusion: We are accepting the null hypothesis.\\n\")\n",
    "    else:\n",
    "        print(\"\\n Conclusion: We are rejecting the null hypothesis.\\n\")"
   ]
  },
  {
   "cell_type": "markdown",
   "metadata": {},
   "source": [
    "Q2. The college bookstore tells prospective students that the average cost of its\n",
    "textbooks is Rs. 52 with a standard deviation of Rs. 4.50. A group of smart statistics\n",
    "students thinks that the average cost is higher. To test the bookstore’s claim against\n",
    "their alternative, the students will select a random sample of size 100. Assume that\n",
    "the mean from their random sample is Rs. 52.80. Perform a hypothesis test at the\n",
    "5% level of significance and state your decision."
   ]
  },
  {
   "cell_type": "markdown",
   "metadata": {},
   "source": [
    "#### Hypothesis statement\n",
    "- Ho: mu = 52\n",
    "- H1: mu ≠ 52\n",
    "- Critical value of z for two-tailed test at 5% level of significance is ± 1.96"
   ]
  },
  {
   "cell_type": "code",
   "execution_count": 31,
   "metadata": {},
   "outputs": [],
   "source": [
    "mu = 52\n",
    "sd = 4.5\n",
    "n = 100\n",
    "x = 52.8\n",
    "α = 0.05\n",
    "z1 = 1.96"
   ]
  },
  {
   "cell_type": "code",
   "execution_count": 32,
   "metadata": {},
   "outputs": [
    {
     "data": {
      "text/plain": [
       "1.78"
      ]
     },
     "execution_count": 32,
     "metadata": {},
     "output_type": "execute_result"
    }
   ],
   "source": [
    "z = (x-mu)/(sd/math.sqrt(n))\n",
    "round(z,2)"
   ]
  },
  {
   "cell_type": "code",
   "execution_count": 35,
   "metadata": {},
   "outputs": [
    {
     "data": {
      "image/png": "[encoded data removed]",
      "text/plain": [
       "<Figure size 432x288 with 1 Axes>"
      ]
     },
     "metadata": {
      "needs_background": "light"
     },
     "output_type": "display_data"
    },
    {
     "name": "stdout",
     "output_type": "stream",
     "text": [
      "\n",
      " Conclusion: We are accepting the null hypothesis.\n",
      "\n"
     ]
    }
   ],
   "source": [
    "hypothesis_testing(z,z1)"
   ]
  },
  {
   "cell_type": "markdown",
   "metadata": {},
   "source": [
    "Q3. A certain chemical pollutant in the Genesee River has been constant for several\n",
    "years with mean μ = 34 ppm (parts per million) and standard deviation σ = 8 ppm. A\n",
    "group of factory representatives whose companies discharge liquids into the river is\n",
    "now claiming that they have lowered the average with improved filtration devices. A\n",
    "group of environmentalists will test to see if this is true at the 1% level of\n",
    "significance. Assume \\ that their sample of size 50 gives a mean of 32.5 ppm.\n",
    "Perform a hypothesis test at the 1% level of significance and state your decision."
   ]
  },
  {
   "cell_type": "markdown",
   "metadata": {},
   "source": [
    "#### Hypothesis statement\n",
    "- Ho: mu = 34\n",
    "- H1: mu ≠ 34\n",
    "- Critical value of z for two-tailed test at 1% level of significance is ± 2.58"
   ]
  },
  {
   "cell_type": "code",
   "execution_count": 37,
   "metadata": {},
   "outputs": [],
   "source": [
    "mu = 34\n",
    "sd = 8\n",
    "n = 50\n",
    "x = 32.5\n",
    "α = 0.01\n",
    "z1 = 2.58"
   ]
  },
  {
   "cell_type": "code",
   "execution_count": 26,
   "metadata": {},
   "outputs": [
    {
     "data": {
      "text/plain": [
       "-1.33"
      ]
     },
     "execution_count": 26,
     "metadata": {},
     "output_type": "execute_result"
    }
   ],
   "source": [
    "z = (x-mu)/(sd/math.sqrt(n))\n",
    "round(z,2)"
   ]
  },
  {
   "cell_type": "code",
   "execution_count": 38,
   "metadata": {},
   "outputs": [
    {
     "data": {
      "image/png": "[encoded data removed]",
      "text/plain": [
       "<Figure size 432x288 with 1 Axes>"
      ]
     },
     "metadata": {
      "needs_background": "light"
     },
     "output_type": "display_data"
    },
    {
     "name": "stdout",
     "output_type": "stream",
     "text": [
      "\n",
      " Conclusion: We are accepting the null hypothesis.\n",
      "\n"
     ]
    }
   ],
   "source": [
    "hypothesis_testing(z,z1)"
   ]
  },
  {
   "cell_type": "markdown",
   "metadata": {},
   "source": [
    "Q4. Based on population figures and other general information on the U.S. population,\n",
    "suppose it has been estimated that, on average, a family of four in the U.S. spends\n",
    "about $1135 annually on dental expenditures. Suppose further that a regional dental\n",
    "association wants to test to determine if this figure is accurate for their area of\n",
    "country. To test this, 22 families of 4 are randomly selected from the population in\n",
    "that area of the country and a log is kept of the family’s dental expenditure for one\n",
    "year. The resulting data are given below. Assuming, that dental expenditure is\n",
    "normally distributed in the population, use the data and an alpha of 0.5 to test the\n",
    "dental association’s hypothesis.\n",
    "\n",
    "1008, 812, 1117, 1323, 1308, 1415, 831, 1021, 1287, 851, 930, 730, 699,\n",
    "872, 913, 944, 954, 987, 1695, 995, 1003, 994"
   ]
  },
  {
   "cell_type": "markdown",
   "metadata": {},
   "source": [
    "#### Hypothesis statement\n",
    "- Ho: mu = 1135\n",
    "- H1: mu ≠ 1135\n",
    "- Critical value of z for two-tailed test at alpha of 0.5 is ± 1.96"
   ]
  },
  {
   "cell_type": "code",
   "execution_count": 51,
   "metadata": {},
   "outputs": [
    {
     "name": "stdout",
     "output_type": "stream",
     "text": [
      "\n",
      " The mean and standard deviation of the sample is 1031.32 and 240.37\n"
     ]
    }
   ],
   "source": [
    "a = [1008, 812, 1117, 1323, 1308, 1415, 831, 1021, 1287, 851, 930, 730, 699,\n",
    "     872, 913, 944, 954, 987, 1695, 995, 1003, 994]\n",
    "\n",
    "mu = 1135\n",
    "sd = st.tstd(a)\n",
    "n = len(a)\n",
    "x = np.mean(a)\n",
    "α = 0.5\n",
    "z1 = 1.96\n",
    "print('\\n The mean and standard deviation of the sample is', round(x,2), 'and', round(sd,2))"
   ]
  },
  {
   "cell_type": "code",
   "execution_count": 41,
   "metadata": {},
   "outputs": [
    {
     "data": {
      "text/plain": [
       "-2.02"
      ]
     },
     "execution_count": 41,
     "metadata": {},
     "output_type": "execute_result"
    }
   ],
   "source": [
    "z = (x-mu)/(sd/math.sqrt(n))\n",
    "round(z,2)"
   ]
  },
  {
   "cell_type": "code",
   "execution_count": 46,
   "metadata": {},
   "outputs": [
    {
     "data": {
      "image/png": "[encoded data removed]",
      "text/plain": [
       "<Figure size 432x288 with 1 Axes>"
      ]
     },
     "metadata": {
      "needs_background": "light"
     },
     "output_type": "display_data"
    },
    {
     "name": "stdout",
     "output_type": "stream",
     "text": [
      "\n",
      " Conclusion: We are rejecting the null hypothesis.\n",
      "\n"
     ]
    }
   ],
   "source": [
    "hypothesis_testing(z,z1)"
   ]
  },
  {
   "cell_type": "markdown",
   "metadata": {},
   "source": [
    "Q5. In a report prepared by the Economic Research Department of a major bank the\n",
    "Department manager maintains that the average annual family income on Metropolis\n",
    "is $48,432. \n",
    "\n",
    "What do you conclude about the validity of the report if a random sample\n",
    "of 400 families shows and average income of $48,574 with a standard deviation of\n",
    "2000?"
   ]
  },
  {
   "cell_type": "markdown",
   "metadata": {},
   "source": [
    "#### Hypothesis statement\n",
    "- Ho: mu = 48,432\n",
    "- H1: mu ≠ 48,432\n",
    "- Critical value of z for two-tailed test at 5% level of significance is is ± 1.96"
   ]
  },
  {
   "cell_type": "code",
   "execution_count": 52,
   "metadata": {},
   "outputs": [],
   "source": [
    "mu = 48432\n",
    "sd = 2000\n",
    "n = 400\n",
    "x = 48574\n",
    "α = 0.05\n",
    "z1 = 1.96"
   ]
  },
  {
   "cell_type": "code",
   "execution_count": 53,
   "metadata": {},
   "outputs": [
    {
     "data": {
      "text/plain": [
       "1.42"
      ]
     },
     "execution_count": 53,
     "metadata": {},
     "output_type": "execute_result"
    }
   ],
   "source": [
    "z = (x-mu)/(sd/math.sqrt(n))\n",
    "round(z,2)"
   ]
  },
  {
   "cell_type": "code",
   "execution_count": 54,
   "metadata": {},
   "outputs": [
    {
     "data": {
      "image/png": "[encoded data removed]",
      "text/plain": [
       "<Figure size 432x288 with 1 Axes>"
      ]
     },
     "metadata": {
      "needs_background": "light"
     },
     "output_type": "display_data"
    },
    {
     "name": "stdout",
     "output_type": "stream",
     "text": [
      "\n",
      " Conclusion: We are accepting the null hypothesis.\n",
      "\n"
     ]
    }
   ],
   "source": [
    "hypothesis_testing(z,z1)"
   ]
  },
  {
   "cell_type": "markdown",
   "metadata": {},
   "source": [
    "Q6. Suppose that in past years the average price per square foot for warehouses in the\n",
    "United States has been 32.28. A national real estate investor wants to determine\n",
    "whether that figure has changed now. The investor hires a researcher who randomly\n",
    "samples 19 warehouses that are for sale across the United States and finds that the\n",
    "mean price per square foot is 31.67, with a standard deviation of 1.29. Assume that the prices of warehouse footage are normally distributed in population. If the\n",
    "researcher uses a 5% level of significance, what statistical conclusion can be\n",
    "reached? What are the hypotheses?"
   ]
  },
  {
   "cell_type": "markdown",
   "metadata": {},
   "source": [
    "#### Hypothesis statement\n",
    "- Ho: mu = 32.28\n",
    "- H1: mu ≠ 32.28\n",
    "- Critical value of z for two-tailed test at 5% level of significance is is ± 1.96"
   ]
  },
  {
   "cell_type": "code",
   "execution_count": 57,
   "metadata": {},
   "outputs": [],
   "source": [
    "mu = 32.28\n",
    "sd = 1.29\n",
    "n = 19\n",
    "x = 31.67\n",
    "α = 0.05\n",
    "z1 = 1.96"
   ]
  },
  {
   "cell_type": "code",
   "execution_count": 58,
   "metadata": {},
   "outputs": [
    {
     "data": {
      "text/plain": [
       "-2.06"
      ]
     },
     "execution_count": 58,
     "metadata": {},
     "output_type": "execute_result"
    }
   ],
   "source": [
    "z = (x-mu)/(sd/math.sqrt(n))\n",
    "round(z,2)"
   ]
  },
  {
   "cell_type": "code",
   "execution_count": 59,
   "metadata": {},
   "outputs": [
    {
     "data": {
      "image/png": "[encoded data removed]",
      "text/plain": [
       "<Figure size 432x288 with 1 Axes>"
      ]
     },
     "metadata": {
      "needs_background": "light"
     },
     "output_type": "display_data"
    },
    {
     "name": "stdout",
     "output_type": "stream",
     "text": [
      "\n",
      " Conclusion: We are rejecting the null hypothesis.\n",
      "\n"
     ]
    }
   ],
   "source": [
    "hypothesis_testing(z,z1)"
   ]
  },
  {
   "attachments": {
    "7.png": {
     "image/png": "[encoded data removed]"
    }
   },
   "cell_type": "markdown",
   "metadata": {},
   "source": [
    "Q7. Fill in the blank spaces in the table and draw your conclusions from it.\n",
    "\n",
    "![7.png](attachment:7.png)"
   ]
  },
  {
   "cell_type": "code",
   "execution_count": 32,
   "metadata": {},
   "outputs": [
    {
     "data": {
      "text/html": [
       "<div>\n",
       "<style scoped>\n",
       "    .dataframe tbody tr th:only-of-type {\n",
       "        vertical-align: middle;\n",
       "    }\n",
       "\n",
       "    .dataframe tbody tr th {\n",
       "        vertical-align: top;\n",
       "    }\n",
       "\n",
       "    .dataframe thead th {\n",
       "        text-align: right;\n",
       "    }\n",
       "</style>\n",
       "<table border=\"1\" class=\"dataframe\">\n",
       "  <thead>\n",
       "    <tr style=\"text-align: right;\">\n",
       "      <th></th>\n",
       "      <th>Acceptance region</th>\n",
       "      <th>Sample size</th>\n",
       "      <th>a</th>\n",
       "      <th>β at μ = 52</th>\n",
       "      <th>β at μ = 50.5</th>\n",
       "    </tr>\n",
       "  </thead>\n",
       "  <tbody>\n",
       "    <tr>\n",
       "      <th>0</th>\n",
       "      <td>48.5&lt;x̅&lt;51.5</td>\n",
       "      <td>10</td>\n",
       "      <td>0.9</td>\n",
       "      <td>0.147</td>\n",
       "      <td>0.982</td>\n",
       "    </tr>\n",
       "    <tr>\n",
       "      <th>1</th>\n",
       "      <td>48&lt;x̅&lt;52</td>\n",
       "      <td>10</td>\n",
       "      <td>0.9</td>\n",
       "      <td>0.500</td>\n",
       "      <td>0.992</td>\n",
       "    </tr>\n",
       "    <tr>\n",
       "      <th>2</th>\n",
       "      <td>48.81&lt;x̅&lt;51.9</td>\n",
       "      <td>16</td>\n",
       "      <td>0.9</td>\n",
       "      <td>0.397</td>\n",
       "      <td>0.990</td>\n",
       "    </tr>\n",
       "    <tr>\n",
       "      <th>3</th>\n",
       "      <td>48.42&lt;x̅&lt;51.58</td>\n",
       "      <td>16</td>\n",
       "      <td>0.9</td>\n",
       "      <td>0.131</td>\n",
       "      <td>0.998</td>\n",
       "    </tr>\n",
       "  </tbody>\n",
       "</table>\n",
       "</div>"
      ],
      "text/plain": [
       "  Acceptance region  Sample size    a  β at μ = 52  β at μ = 50.5\n",
       "0      48.5<x̅<51.5           10  0.9        0.147          0.982\n",
       "1          48<x̅<52           10  0.9        0.500          0.992\n",
       "2     48.81<x̅<51.9           16  0.9        0.397          0.990\n",
       "3    48.42<x̅<51.58           16  0.9        0.131          0.998"
      ]
     },
     "execution_count": 32,
     "metadata": {},
     "output_type": "execute_result"
    }
   ],
   "source": [
    "r = ['48.5<x̅<51.5','48<x̅<52','48.81<x̅<51.9','48.42<x̅<51.58']\n",
    "s = [10,10,16,16]\n",
    "a = [0.9,0.9,0.9,0.9]\n",
    "b1 = [0.147,0.5,0.397,0.131]\n",
    "b2 = [0.982,0.992,0.99,0.998]\n",
    "beta = {\n",
    "    'Acceptance region':r,\n",
    "    'Sample size':s,'a':a,'β at μ = 52':b1,'β at μ = 50.5':b2}\n",
    "\n",
    "df = pd.DataFrame(beta)\n",
    "df"
   ]
  },
  {
   "cell_type": "markdown",
   "metadata": {},
   "source": [
    "------"
   ]
  },
  {
   "cell_type": "markdown",
   "metadata": {},
   "source": [
    "Q8. Find the t-score for a sample size of 16 taken from a population with mean 10 when\n",
    "the sample mean is 12 and the sample standard deviation is 1.5."
   ]
  },
  {
   "cell_type": "code",
   "execution_count": 4,
   "metadata": {},
   "outputs": [
    {
     "data": {
      "text/plain": [
       "5.33"
      ]
     },
     "execution_count": 4,
     "metadata": {},
     "output_type": "execute_result"
    }
   ],
   "source": [
    "t_score = (12-10)/(1.5/math.sqrt(16))\n",
    "round(t_score,2)"
   ]
  },
  {
   "cell_type": "markdown",
   "metadata": {},
   "source": [
    "Q9. Find the t-score below which we can expect 99% of sample means will fall if samples\n",
    "of size 16 are taken from a normally distributed population."
   ]
  },
  {
   "cell_type": "markdown",
   "metadata": {},
   "source": [
    "Ans: t_value = -2.602"
   ]
  },
  {
   "cell_type": "markdown",
   "metadata": {},
   "source": [
    "Q10. If a random sample of size 25 drawn from a normal population gives a mean of 60\n",
    "and a standard deviation of 4, find the range of t-scores where we can expect to find\n",
    "the middle 95% of all sample means. Compute the probability that (−t0.05 <t<t0.10)."
   ]
  },
  {
   "cell_type": "markdown",
   "metadata": {},
   "source": [
    "Ans: t_score = -2.06; Probability = 0.0247"
   ]
  },
  {
   "cell_type": "markdown",
   "metadata": {},
   "source": [
    "Q11. Two-tailed test for difference between two population means. \n",
    "Is there evidence to conclude that the number of people travelling from Bangalore to\n",
    "Chennai is different from the number of people travelling from Bangalore to Hosur in\n",
    "a week, given the following:\n",
    "\n",
    "Population 1: Bangalore to Chennai \n",
    "n1 = 1200; x1 = 452; s1 = 212\n",
    "\n",
    "Population 2: Bangalore to Hosur \n",
    "n2 = 800; x2 = 523; s2 = 185"
   ]
  },
  {
   "cell_type": "markdown",
   "metadata": {},
   "source": [
    "#### Hypothesis statement\n",
    "- Ho: (𝜇1-𝜇2) = 0\n",
    "- H1: (𝜇1-𝜇2) ≠ 0\n",
    "- Critical value of z for two-tailed test at 5% level of significance is is ± 1.96"
   ]
  },
  {
   "cell_type": "code",
   "execution_count": 2,
   "metadata": {},
   "outputs": [
    {
     "data": {
      "text/plain": [
       "-7.93"
      ]
     },
     "execution_count": 2,
     "metadata": {},
     "output_type": "execute_result"
    }
   ],
   "source": [
    "x1,s1,n1 = 452,212,1200\n",
    "x2,s2,n2 = 523,185,800\n",
    "se = math.sqrt(((s1)**2/n1)+((s2)**2/n2))\n",
    "z = (x1-x2)/se\n",
    "round(z,2)"
   ]
  },
  {
   "cell_type": "code",
   "execution_count": 14,
   "metadata": {},
   "outputs": [
    {
     "data": {
      "image/png": "[encoded data removed]",
      "text/plain": [
       "<Figure size 432x288 with 1 Axes>"
      ]
     },
     "metadata": {
      "needs_background": "light"
     },
     "output_type": "display_data"
    },
    {
     "name": "stdout",
     "output_type": "stream",
     "text": [
      "\n",
      " Conclusion: We are rejecting the null hypothesis.\n",
      "\n"
     ]
    }
   ],
   "source": [
    "α = 0.05\n",
    "z1 = 1.96\n",
    "hypothesis_testing(z,z1)"
   ]
  },
  {
   "cell_type": "markdown",
   "metadata": {},
   "source": [
    "Q12. Is there evidence to conclude that the number of people preferring Duracell battery is\n",
    "different from the number of people preferring Energizer battery, given the following:\n",
    "\n",
    "Population 1: Duracell\n",
    "n1 = 100; x1 = 308; s1 = 84\n",
    "\n",
    "Population 2: Energizer\n",
    "n2 = 100; x2 = 254; s2 = 67"
   ]
  },
  {
   "cell_type": "markdown",
   "metadata": {},
   "source": [
    "#### Hypothesis statement\n",
    "- Ho: (𝜇1-𝜇2) = 0\n",
    "- H1: (𝜇1-𝜇2) ≠ 0\n",
    "- Critical value of z for two-tailed test at 5% level of significance is is ± 1.96"
   ]
  },
  {
   "cell_type": "code",
   "execution_count": 3,
   "metadata": {},
   "outputs": [
    {
     "data": {
      "text/plain": [
       "5.03"
      ]
     },
     "execution_count": 3,
     "metadata": {},
     "output_type": "execute_result"
    }
   ],
   "source": [
    "x1,s1,n1 = 308,84,100\n",
    "x2,s2,n2 = 254,67,100\n",
    "se = math.sqrt(((s1)**2/n1)+((s2)**2/n2))\n",
    "z = (x1-x2)/se\n",
    "round(z,2)"
   ]
  },
  {
   "cell_type": "code",
   "execution_count": 16,
   "metadata": {},
   "outputs": [
    {
     "data": {
      "image/png": "[encoded data removed]",
      "text/plain": [
       "<Figure size 432x288 with 1 Axes>"
      ]
     },
     "metadata": {
      "needs_background": "light"
     },
     "output_type": "display_data"
    },
    {
     "name": "stdout",
     "output_type": "stream",
     "text": [
      "\n",
      " Conclusion: We are rejecting the null hypothesis.\n",
      "\n"
     ]
    }
   ],
   "source": [
    "α = 0.05\n",
    "z1 = 1.96\n",
    "hypothesis_testing(z,z1)"
   ]
  },
  {
   "cell_type": "markdown",
   "metadata": {},
   "source": [
    "Q13. Pooled estimate of the population variance\n",
    "Does the data provide sufficient evidence to conclude that average percentage\n",
    "increase in the price of sugar differs when it is sold at two different prices?\n",
    "\n",
    "Population 1: Price of sugar = Rs. 27.50; n1 = 14;\n",
    "x1 = 0.317%; s1 = 0.12%;\n",
    "\n",
    "Population 2: Price of sugar = Rs. 20.00; \n",
    "n2 = 9; x2 = 0.21%; s2 = 0.11%"
   ]
  },
  {
   "cell_type": "markdown",
   "metadata": {},
   "source": [
    "#### Hypothesis statement\n",
    "- Ho: (𝜇1-𝜇2) = 0\n",
    "- H1: (𝜇1-𝜇2) ≠ 0\n",
    "- Critical value of t for two-tailed test at 5% level of significance and degree of freedom 21, is 2.08."
   ]
  },
  {
   "cell_type": "code",
   "execution_count": 4,
   "metadata": {},
   "outputs": [
    {
     "data": {
      "text/plain": [
       "2.15"
      ]
     },
     "execution_count": 4,
     "metadata": {},
     "output_type": "execute_result"
    }
   ],
   "source": [
    "x1,s1,n1 = 0.317,0.12,14\n",
    "x2,s2,n2 = 0.21,0.11,9\n",
    "a = ((n1-1)*(s1)**2+(n2-1)*(s2)**2)*((1/n1)+(1/n2))\n",
    "b = (n1+n2-2)\n",
    "se = math.sqrt(a/b)\n",
    "t = (x1-x2)/se\n",
    "round(t,2)"
   ]
  },
  {
   "cell_type": "code",
   "execution_count": 7,
   "metadata": {},
   "outputs": [
    {
     "name": "stdout",
     "output_type": "stream",
     "text": [
      "\n",
      " Conclusion: We are rejecting the null hypothesis.\n",
      "\n"
     ]
    }
   ],
   "source": [
    "α = 0.05\n",
    "t1 = 2.08\n",
    "if t < t1:    \n",
    "    print(\"\\n Conclusion: We are accepting the null hypothesis.\\n\")\n",
    "else:\n",
    "    print(\"\\n Conclusion: We are rejecting the null hypothesis.\\n\")"
   ]
  },
  {
   "cell_type": "markdown",
   "metadata": {},
   "source": [
    "Q14. The manufacturers of compact disk players want to test whether a small price\n",
    "reduction is enough to increase sales of their product. Is there evidence that the\n",
    "small price reduction is enough to increase sales of compact disk players?\n",
    "\n",
    "Population 1: Before reduction\n",
    "n1 = 15;\n",
    "x1 = Rs. 6598; s1 = Rs. 844;\n",
    "\n",
    "Population 2: After reduction n2 = 12;\n",
    "x2 = RS. 6870;\n",
    "s2 = Rs. 669;"
   ]
  },
  {
   "cell_type": "markdown",
   "metadata": {},
   "source": [
    "#### Hypothesis statement\n",
    "- Ho: (𝜇1-𝜇2) = 0\n",
    "- H1: (𝜇1-𝜇2) ≠ 0\n",
    "- Critical value of t for two-tailed test at 5% level of significance and degree of freedom 25, is 1.708."
   ]
  },
  {
   "cell_type": "code",
   "execution_count": 9,
   "metadata": {},
   "outputs": [
    {
     "data": {
      "text/plain": [
       "0.91"
      ]
     },
     "execution_count": 9,
     "metadata": {},
     "output_type": "execute_result"
    }
   ],
   "source": [
    "x1,s1,n1 = 6598,844,15\n",
    "x2,s2,n2 = 6870,669,12\n",
    "a = ((n1-1)*(s1)**2+(n2-1)*(s2)**2)*((1/n1)+(1/n2))\n",
    "b = (n1+n2-2)\n",
    "se = math.sqrt(a/b)\n",
    "t = (x1-x2)/se\n",
    "round(abs(t),2)"
   ]
  },
  {
   "cell_type": "code",
   "execution_count": 10,
   "metadata": {},
   "outputs": [
    {
     "name": "stdout",
     "output_type": "stream",
     "text": [
      "\n",
      " Conclusion: We are accepting the null hypothesis.\n",
      "\n"
     ]
    }
   ],
   "source": [
    "α = 0.05\n",
    "t1 = 1.708\n",
    "if t < t1:    \n",
    "    print(\"\\n Conclusion: We are accepting the null hypothesis.\\n\")\n",
    "else:\n",
    "    print(\"\\n Conclusion: We are rejecting the null hypothesis.\\n\")"
   ]
  },
  {
   "cell_type": "markdown",
   "metadata": {},
   "source": [
    "Q15. Comparisons of two population proportions when the hypothesized difference is zero\n",
    "Carry out a two-tailed test of the equality of banks’ share of the car loan market in\n",
    "1980 and 1995.\n",
    "\n",
    "Population 1: 1980\n",
    "n1 = 1000;\n",
    "x1 = 53;\n",
    "p1 = 0.53;\n",
    "\n",
    "Population 2: 1985\n",
    "n2 = 100;\n",
    "x2 = 43;\n",
    "p2= 0.53;"
   ]
  },
  {
   "cell_type": "markdown",
   "metadata": {},
   "source": [
    "#### Hypothesis statement\n",
    "- Ho: p1 = p2\n",
    "- H1: p1 ≠ p2\n",
    "- Critical value of t for two-tailed test at 5% level of significance is ± 1.96."
   ]
  },
  {
   "cell_type": "code",
   "execution_count": 11,
   "metadata": {},
   "outputs": [
    {
     "data": {
      "text/plain": [
       "0.0"
      ]
     },
     "execution_count": 11,
     "metadata": {},
     "output_type": "execute_result"
    }
   ],
   "source": [
    "n1,x1,p1 = 1000,53,0.53\n",
    "n2,x2,p2 = 100,43,0.53\n",
    "p = (x1+x2)/(n1+n2)\n",
    "a = math.sqrt((p*(1-p))*((1/n1)+(1/n2)))\n",
    "z = (p1-p2)/a\n",
    "round(z,2)"
   ]
  },
  {
   "cell_type": "code",
   "execution_count": 12,
   "metadata": {},
   "outputs": [
    {
     "data": {
      "image/png": "[encoded data removed]",
      "text/plain": [
       "<Figure size 432x288 with 1 Axes>"
      ]
     },
     "metadata": {
      "needs_background": "light"
     },
     "output_type": "display_data"
    },
    {
     "name": "stdout",
     "output_type": "stream",
     "text": [
      "\n",
      " Conclusion: We are accepting the null hypothesis.\n",
      "\n"
     ]
    }
   ],
   "source": [
    "α = 0.05\n",
    "z1 = 1.96\n",
    "hypothesis_testing(z,z1)"
   ]
  },
  {
   "cell_type": "markdown",
   "metadata": {},
   "source": [
    "Q16. Carry out a one-tailed test to determine whether the population proportion of\n",
    "traveler’s check buyers who buy at least $2500 in checks when sweepstakes prizes\n",
    "are offered as at least 10% higher than the proportion of such buyers when no\n",
    "sweepstakes are on.\n",
    "\n",
    "Population 1: With sweepstakes\n",
    "n1 = 300;\n",
    "x1 = 120;\n",
    "p1 = 0.40;\n",
    "\n",
    "Population 2: No sweepstakes \n",
    "n2 = 700;\n",
    "x2 = 140;\n",
    "p2= 0.20;"
   ]
  },
  {
   "cell_type": "markdown",
   "metadata": {},
   "source": [
    "#### Hypothesis statement\n",
    "- Ho: p1-p2 ≤ 0.10\n",
    "- H1: p1-p2 > 0.10\n",
    "- Critical value of t for one-tailed test at 5% level of significance is ± 1.645."
   ]
  },
  {
   "cell_type": "code",
   "execution_count": 14,
   "metadata": {},
   "outputs": [
    {
     "data": {
      "text/plain": [
       "3.12"
      ]
     },
     "execution_count": 14,
     "metadata": {},
     "output_type": "execute_result"
    }
   ],
   "source": [
    "n1,x1,p1 = 300,120,0.40\n",
    "n2,x2,p2 = 700,140,0.20\n",
    "d = 0.10\n",
    "p = (p1-p2)-d\n",
    "a = math.sqrt(((p1*(1-p1))/n1)+((p2*(1-p2))/n2))\n",
    "z = p/a\n",
    "round(z,2)"
   ]
  },
  {
   "cell_type": "code",
   "execution_count": 15,
   "metadata": {},
   "outputs": [
    {
     "data": {
      "image/png": "[encoded data removed]",
      "text/plain": [
       "<Figure size 432x288 with 1 Axes>"
      ]
     },
     "metadata": {
      "needs_background": "light"
     },
     "output_type": "display_data"
    },
    {
     "name": "stdout",
     "output_type": "stream",
     "text": [
      "\n",
      " Conclusion: We are rejecting the null hypothesis.\n",
      "\n"
     ]
    }
   ],
   "source": [
    "α = 0.05\n",
    "z1 = 1.645\n",
    "hypothesis_testing(z,z1)"
   ]
  },
  {
   "cell_type": "markdown",
   "metadata": {},
   "source": [
    "Q17. A die is thrown 132 times with the following results: Number turned up: 1, 2, 3, 4, 5, 6\n",
    "Frequency: 16, 20, 25, 14, 29, 28\n",
    "Is the die unbiased? Consider the degrees of freedom as p − 1."
   ]
  },
  {
   "cell_type": "markdown",
   "metadata": {},
   "source": [
    "#### Hypothesis statement\n",
    "- Ho:The dice is unbiased\n",
    "- H1: The dice is not biased\n",
    "- Critical value of χ2 for chi-squared test at 5% level of significance and degree of freedom 5, is 11.07."
   ]
  },
  {
   "cell_type": "code",
   "execution_count": 1,
   "metadata": {},
   "outputs": [],
   "source": [
    "import pandas as pd\n",
    "x = [1, 2, 3, 4, 5, 6]\n",
    "f = [16, 20, 25, 14, 29, 28]\n",
    "o = sum(f)\n",
    "e = o/6\n",
    "dice_data = {\n",
    "    'Number_turned_up':x,\n",
    "    'Observed_Frequency':f,\n",
    "    'Expected_Frequency':e,\n",
    "}\n",
    "\n",
    "df = pd.DataFrame(dice_data)\n",
    "df['Square_of_difference']= (df['Observed_Frequency']-df['Expected_Frequency'])**2"
   ]
  },
  {
   "cell_type": "code",
   "execution_count": 22,
   "metadata": {},
   "outputs": [
    {
     "data": {
      "text/html": [
       "<div>\n",
       "<style scoped>\n",
       "    .dataframe tbody tr th:only-of-type {\n",
       "        vertical-align: middle;\n",
       "    }\n",
       "\n",
       "    .dataframe tbody tr th {\n",
       "        vertical-align: top;\n",
       "    }\n",
       "\n",
       "    .dataframe thead th {\n",
       "        text-align: right;\n",
       "    }\n",
       "</style>\n",
       "<table border=\"1\" class=\"dataframe\">\n",
       "  <thead>\n",
       "    <tr style=\"text-align: right;\">\n",
       "      <th></th>\n",
       "      <th>Number_turned_up</th>\n",
       "      <th>Observed_Frequency</th>\n",
       "      <th>Expected_Frequency</th>\n",
       "      <th>Square_of_difference</th>\n",
       "    </tr>\n",
       "  </thead>\n",
       "  <tbody>\n",
       "    <tr>\n",
       "      <th>0</th>\n",
       "      <td>1</td>\n",
       "      <td>16</td>\n",
       "      <td>22.0</td>\n",
       "      <td>36.0</td>\n",
       "    </tr>\n",
       "    <tr>\n",
       "      <th>1</th>\n",
       "      <td>2</td>\n",
       "      <td>20</td>\n",
       "      <td>22.0</td>\n",
       "      <td>4.0</td>\n",
       "    </tr>\n",
       "    <tr>\n",
       "      <th>2</th>\n",
       "      <td>3</td>\n",
       "      <td>25</td>\n",
       "      <td>22.0</td>\n",
       "      <td>9.0</td>\n",
       "    </tr>\n",
       "    <tr>\n",
       "      <th>3</th>\n",
       "      <td>4</td>\n",
       "      <td>14</td>\n",
       "      <td>22.0</td>\n",
       "      <td>64.0</td>\n",
       "    </tr>\n",
       "    <tr>\n",
       "      <th>4</th>\n",
       "      <td>5</td>\n",
       "      <td>29</td>\n",
       "      <td>22.0</td>\n",
       "      <td>49.0</td>\n",
       "    </tr>\n",
       "    <tr>\n",
       "      <th>5</th>\n",
       "      <td>6</td>\n",
       "      <td>28</td>\n",
       "      <td>22.0</td>\n",
       "      <td>36.0</td>\n",
       "    </tr>\n",
       "  </tbody>\n",
       "</table>\n",
       "</div>"
      ],
      "text/plain": [
       "   Number_turned_up  Observed_Frequency  Expected_Frequency  \\\n",
       "0                 1                  16                22.0   \n",
       "1                 2                  20                22.0   \n",
       "2                 3                  25                22.0   \n",
       "3                 4                  14                22.0   \n",
       "4                 5                  29                22.0   \n",
       "5                 6                  28                22.0   \n",
       "\n",
       "   Square_of_difference  \n",
       "0                  36.0  \n",
       "1                   4.0  \n",
       "2                   9.0  \n",
       "3                  64.0  \n",
       "4                  49.0  \n",
       "5                  36.0  "
      ]
     },
     "execution_count": 22,
     "metadata": {},
     "output_type": "execute_result"
    }
   ],
   "source": [
    "df"
   ]
  },
  {
   "cell_type": "code",
   "execution_count": 4,
   "metadata": {},
   "outputs": [
    {
     "data": {
      "text/plain": [
       "9.0"
      ]
     },
     "execution_count": 4,
     "metadata": {},
     "output_type": "execute_result"
    }
   ],
   "source": [
    "x = sum(df['Square_of_difference'])\n",
    "x/e"
   ]
  },
  {
   "cell_type": "markdown",
   "metadata": {},
   "source": [
    " Conclusion: Since calculated chi square is less than the critical value, thus the null hypothesis is accepted.  "
   ]
  },
  {
   "cell_type": "markdown",
   "metadata": {},
   "source": [
    "--------------------------------------------------------------------------------------------------"
   ]
  },
  {
   "cell_type": "markdown",
   "metadata": {},
   "source": [
    "Q18. In a certain town, there are about one million eligible voters. A simple random\n",
    "sample of 10,000 eligible voters was chosen to study the relationship between\n",
    "gender and participation in the last election. The results are summarized in the\n",
    "following 2X2 (read two by two) contingency table:\n",
    "\n",
    "Men: voted- 2792; not voted- 1486\n",
    "\n",
    "Women: voted- 3591; not voted- 2131\n",
    "\n",
    "We would want to check whether being a man or a woman (columns) is independent of\n",
    "having voted in the last election (rows). In other words, is “gender and voting independent”?"
   ]
  },
  {
   "cell_type": "markdown",
   "metadata": {},
   "source": [
    "#### Hypothesis statement\n",
    "- Ho: Voting is gender independent.\n",
    "- H1: Voting is gender dependent.\n",
    "- Critical value of χ2 for chi-squared test at 5% level of significance and degree of freedom 1, is 3.84."
   ]
  },
  {
   "cell_type": "code",
   "execution_count": 4,
   "metadata": {},
   "outputs": [],
   "source": [
    "Men_voted = 2792\n",
    "Men_not_voted = 1486\n",
    "Women_voted = 3591\n",
    "Women_not_voted = 2131\n",
    "Total = Men_voted + Men_not_voted + Women_voted + Women_not_voted\n",
    "Total_men = Men_voted + Men_not_voted\n",
    "Total_women = Women_voted + Women_not_voted\n",
    "Total_voted = Men_voted + Women_voted\n",
    "Total_not_voted = Men_not_voted + Women_not_voted"
   ]
  },
  {
   "cell_type": "code",
   "execution_count": 5,
   "metadata": {},
   "outputs": [],
   "source": [
    "E_v_men = Total_voted*Total_men/Total\n",
    "E_v_women = Total_voted*Total_women/Total\n",
    "E_nv_men = Total_not_voted*Total_men/Total\n",
    "E_nv_women = Total_not_voted*Total_women/Total"
   ]
  },
  {
   "cell_type": "code",
   "execution_count": 6,
   "metadata": {},
   "outputs": [
    {
     "data": {
      "text/plain": [
       "6.66"
      ]
     },
     "execution_count": 6,
     "metadata": {},
     "output_type": "execute_result"
    }
   ],
   "source": [
    "x1 = (Men_voted-E_v_men)**2/E_v_men\n",
    "x2 = (Women_voted-E_v_women)**2/E_v_women\n",
    "x3 = (Men_not_voted-E_nv_men)**2/E_nv_men\n",
    "x4 = (Women_not_voted-E_nv_women)**2/E_nv_women\n",
    "x = x1+x2+x3+x4\n",
    "round(x,2)"
   ]
  },
  {
   "cell_type": "markdown",
   "metadata": {},
   "source": [
    " Conclusion: Since calculated chi square is exceeding the critical value, thus the null hypothesis is rejected.  "
   ]
  },
  {
   "cell_type": "markdown",
   "metadata": {},
   "source": [
    "-----------------------------------------------------------------------------------------------------------"
   ]
  },
  {
   "cell_type": "markdown",
   "metadata": {},
   "source": [
    "Q19. A sample of 100 voters are asked which of four candidates they would vote for in an\n",
    "election. The number supporting each candidate is given below:\n",
    "- Higgins = 41\n",
    "- Reardon = 19\n",
    "- White = 24\n",
    "- Charlton = 16\n",
    "\n",
    "Do the data suggest that all candidates are equally popular? [Chi-Square = 14.96,\n",
    "with 3 df, p 0.05]."
   ]
  },
  {
   "cell_type": "markdown",
   "metadata": {},
   "source": [
    "#### Hypothesis statement\n",
    "- Ho: There is no preferences for any of the candidates.\n",
    "- H1: There is preferences for any of the candidates.\n",
    "- Critical value of χ2 for chi-squared test at 5% level of significance and degree of freedom 3, is 7.81."
   ]
  },
  {
   "cell_type": "code",
   "execution_count": 15,
   "metadata": {},
   "outputs": [
    {
     "data": {
      "text/html": [
       "<div>\n",
       "<style scoped>\n",
       "    .dataframe tbody tr th:only-of-type {\n",
       "        vertical-align: middle;\n",
       "    }\n",
       "\n",
       "    .dataframe tbody tr th {\n",
       "        vertical-align: top;\n",
       "    }\n",
       "\n",
       "    .dataframe thead th {\n",
       "        text-align: right;\n",
       "    }\n",
       "</style>\n",
       "<table border=\"1\" class=\"dataframe\">\n",
       "  <thead>\n",
       "    <tr style=\"text-align: right;\">\n",
       "      <th></th>\n",
       "      <th>Candidates</th>\n",
       "      <th>Observed</th>\n",
       "      <th>Expected</th>\n",
       "      <th>Square_of_difference</th>\n",
       "    </tr>\n",
       "  </thead>\n",
       "  <tbody>\n",
       "    <tr>\n",
       "      <th>0</th>\n",
       "      <td>Higgins</td>\n",
       "      <td>41</td>\n",
       "      <td>25.0</td>\n",
       "      <td>256.0</td>\n",
       "    </tr>\n",
       "    <tr>\n",
       "      <th>1</th>\n",
       "      <td>Reardon</td>\n",
       "      <td>19</td>\n",
       "      <td>25.0</td>\n",
       "      <td>36.0</td>\n",
       "    </tr>\n",
       "    <tr>\n",
       "      <th>2</th>\n",
       "      <td>White</td>\n",
       "      <td>24</td>\n",
       "      <td>25.0</td>\n",
       "      <td>1.0</td>\n",
       "    </tr>\n",
       "    <tr>\n",
       "      <th>3</th>\n",
       "      <td>Charlton</td>\n",
       "      <td>16</td>\n",
       "      <td>25.0</td>\n",
       "      <td>81.0</td>\n",
       "    </tr>\n",
       "  </tbody>\n",
       "</table>\n",
       "</div>"
      ],
      "text/plain": [
       "  Candidates  Observed  Expected  Square_of_difference\n",
       "0    Higgins        41      25.0                 256.0\n",
       "1    Reardon        19      25.0                  36.0\n",
       "2      White        24      25.0                   1.0\n",
       "3   Charlton        16      25.0                  81.0"
      ]
     },
     "execution_count": 15,
     "metadata": {},
     "output_type": "execute_result"
    }
   ],
   "source": [
    "c = ['Higgins','Reardon', 'White', 'Charlton']\n",
    "s = [41,19,24,16]\n",
    "e = sum(s)/len(s)\n",
    "popularity_data = {\n",
    "    'Candidates':c,\n",
    "    'Observed':s,\n",
    "    'Expected':e,\n",
    "}\n",
    "\n",
    "df = pd.DataFrame(popularity_data)\n",
    "df['Square_of_difference']= (df['Observed']-df['Expected'])**2\n",
    "df"
   ]
  },
  {
   "cell_type": "code",
   "execution_count": 16,
   "metadata": {},
   "outputs": [
    {
     "data": {
      "text/plain": [
       "14.96"
      ]
     },
     "execution_count": 16,
     "metadata": {},
     "output_type": "execute_result"
    }
   ],
   "source": [
    "x = sum(df['Square_of_difference'])\n",
    "x/e"
   ]
  },
  {
   "cell_type": "markdown",
   "metadata": {},
   "source": [
    " Conclusion: Since calculated chi square is exceeding the critical value, thus the null hypothesis is rejected.  "
   ]
  },
  {
   "cell_type": "markdown",
   "metadata": {},
   "source": [
    "-------------------------------------------------------------------------------------------------------------------------------"
   ]
  },
  {
   "cell_type": "markdown",
   "metadata": {},
   "source": [
    "Q20. Children of three ages are asked to indicate their preference for three photographs of\n",
    "adults. Do the data suggest that there is a significant relationship between age and\n",
    "photograph preference? What is wrong with this study? [Chi-Square = 29.6, with 4\n",
    "df: p < 0.05]."
   ]
  },
  {
   "cell_type": "markdown",
   "metadata": {},
   "source": [
    "#### Hypothesis statement\n",
    "- Ho: There is no significant relationship between age of child and photograph preference.\n",
    "- H1: There is significant relationship between age of child and photograph preference.\n",
    "- Critical value of χ2 for chi-squared test at for 0.05 significance level and 4 degree of freedom is 9.49."
   ]
  },
  {
   "cell_type": "code",
   "execution_count": 3,
   "metadata": {},
   "outputs": [
    {
     "data": {
      "text/html": [
       "<div>\n",
       "<style scoped>\n",
       "    .dataframe tbody tr th:only-of-type {\n",
       "        vertical-align: middle;\n",
       "    }\n",
       "\n",
       "    .dataframe tbody tr th {\n",
       "        vertical-align: top;\n",
       "    }\n",
       "\n",
       "    .dataframe thead th {\n",
       "        text-align: right;\n",
       "    }\n",
       "</style>\n",
       "<table border=\"1\" class=\"dataframe\">\n",
       "  <thead>\n",
       "    <tr style=\"text-align: right;\">\n",
       "      <th></th>\n",
       "      <th>Age_of_child</th>\n",
       "      <th>A</th>\n",
       "      <th>B</th>\n",
       "      <th>C</th>\n",
       "      <th>column_total</th>\n",
       "    </tr>\n",
       "  </thead>\n",
       "  <tbody>\n",
       "    <tr>\n",
       "      <th>0</th>\n",
       "      <td>5-6 yeras</td>\n",
       "      <td>18.0</td>\n",
       "      <td>22.0</td>\n",
       "      <td>20.0</td>\n",
       "      <td>60.0</td>\n",
       "    </tr>\n",
       "    <tr>\n",
       "      <th>1</th>\n",
       "      <td>7-8 years</td>\n",
       "      <td>2.0</td>\n",
       "      <td>28.0</td>\n",
       "      <td>40.0</td>\n",
       "      <td>70.0</td>\n",
       "    </tr>\n",
       "    <tr>\n",
       "      <th>2</th>\n",
       "      <td>9-10 years</td>\n",
       "      <td>20.0</td>\n",
       "      <td>10.0</td>\n",
       "      <td>40.0</td>\n",
       "      <td>70.0</td>\n",
       "    </tr>\n",
       "    <tr>\n",
       "      <th>row_total</th>\n",
       "      <td>NaN</td>\n",
       "      <td>40.0</td>\n",
       "      <td>60.0</td>\n",
       "      <td>100.0</td>\n",
       "      <td>200.0</td>\n",
       "    </tr>\n",
       "  </tbody>\n",
       "</table>\n",
       "</div>"
      ],
      "text/plain": [
       "          Age_of_child     A     B      C  column_total\n",
       "0            5-6 yeras  18.0  22.0   20.0          60.0\n",
       "1            7-8 years   2.0  28.0   40.0          70.0\n",
       "2           9-10 years  20.0  10.0   40.0          70.0\n",
       "row_total          NaN  40.0  60.0  100.0         200.0"
      ]
     },
     "execution_count": 3,
     "metadata": {},
     "output_type": "execute_result"
    }
   ],
   "source": [
    "y = ['5-6 yeras','7-8 years','9-10 years']\n",
    "a = [18,2,20]\n",
    "b = [22,28,10]\n",
    "c = [20,40,40]\n",
    "photograph_data = {\n",
    "    'Age_of_child':y,\n",
    "    'A':a,'B':b,'C':c}\n",
    "\n",
    "df = pd.DataFrame(photograph_data)\n",
    "df.loc['row_total',:]= df.sum(axis=0, numeric_only = True, skipna = True)\n",
    "df.loc[:,'column_total'] = df.sum(axis=1, numeric_only = True)\n",
    "df"
   ]
  },
  {
   "cell_type": "markdown",
   "metadata": {},
   "source": [
    "- Calculated chi-squared (given): χ2 = 29.60\n",
    "- Degree of freedom = 4\n",
    "- Critical value of Chi-square for 0.05 significance level and 4 degree of freedom is 9.49.\n",
    "##### Conclusion:\n",
    "Since the calculated chi-square value is larger than the critical value, the null hypothesis is rejected.\n"
   ]
  },
  {
   "cell_type": "markdown",
   "metadata": {},
   "source": [
    "-------------------------------------------------------------------------"
   ]
  },
  {
   "attachments": {
    "21.png": {
     "image/png": "[encoded data removed]"
    }
   },
   "cell_type": "markdown",
   "metadata": {},
   "source": [
    "Q21. A study of conformity using the Asch paradigm involved two conditions: one where\n",
    "one confederate supported the true judgement and another where no confederate\n",
    "gave the correct response.\n",
    "\n",
    "![21.png](attachment:21.png)\n",
    "\n",
    "Is there a significant difference between the \"support\" and \"no support\" conditions in the\n",
    "frequency with which individuals are likely to conform? [Chi-Square = 19.87, with 1 df:\n",
    "p < 0.05]."
   ]
  },
  {
   "cell_type": "markdown",
   "metadata": {},
   "source": [
    "#### Hypothesis statement\n",
    "- Ho: There is no significant relationship between \"support\" and \"no support\" conditions.\n",
    "- H1: There is significant relationship between \"support\" and \"no support\" conditions.\n",
    "- Critical value of χ2 for chi-squared test at for 0.05 significance level and 1 degree of freedom is 3.84."
   ]
  },
  {
   "cell_type": "markdown",
   "metadata": {},
   "source": [
    "- Calculated chi-squared (given): χ2 = 19.87\n",
    "- Degree of freedom = 1\n",
    "##### Conclusion:\n",
    "Since the calculated chi-square value is larger than the critical value, the null hypothesis is rejected.\n"
   ]
  },
  {
   "cell_type": "markdown",
   "metadata": {},
   "source": [
    "------------------------------------------------------------------------------------------------------------------------------"
   ]
  },
  {
   "attachments": {
    "22.png": {
     "image/png": "[encoded data removed]"
    }
   },
   "cell_type": "markdown",
   "metadata": {},
   "source": [
    "Q22. We want to test whether short people differ with respect to their leadership qualities\n",
    "(Genghis Khan, Adolf Hitler and Napoleon were all stature-deprived, and how many midget\n",
    "MP's are there?) The following table shows the frequencies with which 43 short people and\n",
    "52 tall people were categorized as \"leaders\", \"followers\" or as \"unclassifiable\". Is there a\n",
    "relationship between height and leadership qualities?\n",
    "[Chi-Square = 10.71, with 2 df: p < 0.01].\n",
    "\n",
    "![22.png](attachment:22.png)"
   ]
  },
  {
   "cell_type": "markdown",
   "metadata": {},
   "source": [
    "#### Hypothesis statement\n",
    "- Ho: There is no significant relationship between height and leadership qualities.\n",
    "- H1: There is significant relationship between height and leadership qualities.\n",
    "- Critical value of χ2 for chi-squared test at for 0.01 significance level and 2 degree of freedom is 9.21."
   ]
  },
  {
   "cell_type": "markdown",
   "metadata": {},
   "source": [
    "- Calculated chi-squared (given): χ2 = 10.71\n",
    "- Degree of freedom = 2\n",
    "##### Conclusion:\n",
    "Since the calculated chi-square value is larger than the critical value, the null hypothesis is rejected.\n"
   ]
  },
  {
   "cell_type": "markdown",
   "metadata": {},
   "source": [
    "---------"
   ]
  },
  {
   "attachments": {
    "23.png": {
     "image/png": "[encoded data removed]"
    }
   },
   "cell_type": "markdown",
   "metadata": {},
   "source": [
    "Q23. Each respondent in the Current Population Survey of March 1993 was classified as\n",
    "employed, unemployed, or outside the labor force. The results for men in California age 35-\n",
    "44 can be cross-tabulated by marital status, as follows:\n",
    "\n",
    "![23.png](attachment:23.png)\n",
    "\n",
    "Men of different marital status seem to have different distributions of labor force status. Or is\n",
    "this just chance variation? (you may assume the table results from a simple random\n",
    "sample.)"
   ]
  },
  {
   "cell_type": "markdown",
   "metadata": {},
   "source": [
    "#### Hypothesis statement\n",
    "- Ho: There is no significant relationship between marriage and labor status.\n",
    "- H1: There is significant relationship between marriage and labor status.\n",
    "- Critical value of χ2 for chi-squared test at for 0.05 significance level and 4 degree of freedom is 9.49."
   ]
  },
  {
   "cell_type": "code",
   "execution_count": 8,
   "metadata": {},
   "outputs": [
    {
     "data": {
      "text/plain": [
       "(31.61310319407798,\n",
       " 2.2949883042859918e-06,\n",
       " 4,\n",
       " array([[654.06331471, 109.2886406 , 132.64804469],\n",
       "        [ 67.88826816,  11.34357542,  13.76815642],\n",
       "        [ 62.04841713,  10.36778399,  12.58379888]]))"
      ]
     },
     "execution_count": 8,
     "metadata": {},
     "output_type": "execute_result"
    }
   ],
   "source": [
    "from scipy.stats import chi2_contingency\n",
    "obs = np.array([[679,103,114],[63,10,20],[42,18,25]])\n",
    "chi2_contingency(obs)"
   ]
  },
  {
   "cell_type": "markdown",
   "metadata": {},
   "source": [
    "- Calculated chi-squared (given): χ2 = 31.61\n",
    "- Degree of freedom = 4\n",
    "##### Conclusion:\n",
    "Since the calculated chi-square value is larger than the critical value, the null hypothesis is rejected.\n"
   ]
  },
  {
   "cell_type": "markdown",
   "metadata": {},
   "source": [
    "----------"
   ]
  }
 ],
 "metadata": {
  "kernelspec": {
   "display_name": "Python 3",
   "language": "python",
   "name": "python3"
  },
  "language_info": {
   "codemirror_mode": {
    "name": "ipython",
    "version": 3
   },
   "file_extension": ".py",
   "mimetype": "text/x-python",
   "name": "python",
   "nbconvert_exporter": "python",
   "pygments_lexer": "ipython3",
   "version": "3.8.3"
  }
 },
 "nbformat": 4,
 "nbformat_minor": 4
}
