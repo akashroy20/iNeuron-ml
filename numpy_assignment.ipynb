{
 "cells": [
  {
   "cell_type": "markdown",
   "metadata": {},
   "source": [
    "Q1. Write a function so that the columns of the output matrix are powers of the input\n",
    "vector.\n",
    "The order of the powers is determined by the increasing boolean argument. Specifically, when\n",
    "increasing is False, the i-th output column is the input vector raised element-wise to the power\n",
    "of N - i - 1."
   ]
  },
  {
   "cell_type": "code",
   "execution_count": null,
   "metadata": {},
   "outputs": [],
   "source": [
    "def vander(a,n,increasing):\n",
    "    if increasing == True:\n",
    "        return np.column_stack([a**(i) for i in range(n)])\n",
    "    else:\n",
    "        return np.column_stack([a**(n-1-i) for i in range(n)])"
   ]
  },
  {
   "cell_type": "markdown",
   "metadata": {},
   "source": [
    "Q2. Write a function to find moving average in an array over a window:\n",
    "Test it over [3, 5, 7, 2, 8, 10, 11, 65, 72, 81, 99, 100, 150] and window of 3."
   ]
  },
  {
   "cell_type": "code",
   "execution_count": 1,
   "metadata": {},
   "outputs": [],
   "source": [
    "def moving_avg(a,k):\n",
    "    import numpy as np\n",
    "    a = np.array(a)\n",
    "    m = 0\n",
    "    n = a.shape[0]\n",
    "    x = n-k+1\n",
    "    for i in range(1,int(x)+1):\n",
    "        y = sum(a[m:m+k])/k\n",
    "        print('y{} = {}'.format(i,int(y)))\n",
    "        m+=1"
   ]
  },
  {
   "cell_type": "code",
   "execution_count": 2,
   "metadata": {},
   "outputs": [
    {
     "name": "stdout",
     "output_type": "stream",
     "text": [
      "y1 = 5\n",
      "y2 = 4\n",
      "y3 = 5\n",
      "y4 = 6\n",
      "y5 = 9\n",
      "y6 = 28\n",
      "y7 = 49\n",
      "y8 = 72\n",
      "y9 = 84\n",
      "y10 = 93\n",
      "y11 = 116\n"
     ]
    }
   ],
   "source": [
    "s = [3, 5, 7, 2, 8, 10, 11, 65, 72, 81, 99, 100, 150]\n",
    "k = 3\n",
    "moving_avg(s,k)"
   ]
  }
 ],
 "metadata": {
  "kernelspec": {
   "display_name": "Python 3",
   "language": "python",
   "name": "python3"
  },
  "language_info": {
   "codemirror_mode": {
    "name": "ipython",
    "version": 3
   },
   "file_extension": ".py",
   "mimetype": "text/x-python",
   "name": "python",
   "nbconvert_exporter": "python",
   "pygments_lexer": "ipython3",
   "version": "3.8.3"
  }
 },
 "nbformat": 4,
 "nbformat_minor": 4
}
